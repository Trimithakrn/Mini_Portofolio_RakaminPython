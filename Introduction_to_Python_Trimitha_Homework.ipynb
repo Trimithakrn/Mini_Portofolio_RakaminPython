{
  "cells": [
    {
      "cell_type": "markdown",
      "metadata": {
        "heading_collapsed": true,
        "id": "IQZPHNVGE0jj"
      },
      "source": [
        "# Homework Introduction to Python"
      ]
    },
    {
      "cell_type": "markdown",
      "metadata": {
        "hidden": true,
        "id": "yKMR8ypqE0jn"
      },
      "source": [
        "$\\textbf{Ubah nama di bawah yaa!}$"
      ]
    },
    {
      "cell_type": "markdown",
      "metadata": {
        "hidden": true,
        "id": "bQ7VJlKEE0jo"
      },
      "source": [
        "- Nama: Trimitha Karina Ningsih\n",
        "- IPK / Nilai Rapot: 3.57 / 9.6"
      ]
    },
    {
      "cell_type": "code",
      "execution_count": 1,
      "metadata": {
        "ExecuteTime": {
          "end_time": "2020-11-12T13:26:22.209983Z",
          "start_time": "2020-11-12T13:26:21.360470Z"
        },
        "hidden": true,
        "id": "4g2oLkevE0jo"
      },
      "outputs": [],
      "source": [
        "import numpy as np\n",
        "\n",
        "# please import as much as you need"
      ]
    },
    {
      "cell_type": "markdown",
      "metadata": {
        "id": "cgd-tTOjE0jr"
      },
      "source": [
        "# Normal"
      ]
    },
    {
      "cell_type": "markdown",
      "metadata": {
        "heading_collapsed": true,
        "id": "ed8OiWGeE0jr"
      },
      "source": [
        "## 1. Operasi Variabel\n",
        "\n",
        "> Misal kita memiliki toko sepatu. Modal membeli 1 kodi sepatu adalah Rp 1.000.000. Setiap sepatu dijual seharga Rp 80.000. Buatlah variabel modal, kuantitas, dan harga_jual sesuai informasi di atas. Hitung profit yang didapatkan jika semua sepatu berhasil terjual, dan masukkan ke variabel profit.\n",
        "\n",
        "Saran langkah-langkah pengerjaan\n",
        "1. Convert terlebih dahulu kodi dalam jumlah barang (1 kodi = xyz buah sepatu)\n",
        "2. Gunakan operasi matematika sederhana untuk menghitung profit menggunakan tiga buah variabel yang sudah ditentukan"
      ]
    },
    {
      "cell_type": "code",
      "execution_count": 2,
      "metadata": {
        "ExecuteTime": {
          "end_time": "2021-10-23T10:20:16.843127Z",
          "start_time": "2021-10-23T10:20:16.835236Z"
        },
        "hidden": true,
        "id": "ThOB9tEME0js",
        "scrolled": true
      },
      "outputs": [
        {
          "name": "stdout",
          "output_type": "stream",
          "text": [
            "Jumlah sepatu: 12\n",
            "Modal: 1000000\n",
            "Harga jual total: 960000\n",
            "Profit: -40000\n"
          ]
        }
      ],
      "source": [
        "# Langkah 1: Konversi kodi ke jumlah sepatu\n",
        "jumlah_sepatu_per_kodi = 12  # Misal 1 kodi = 12 sepatu\n",
        "kodi = 1\n",
        "jumlah_sepatu = kodi * jumlah_sepatu_per_kodi\n",
        "\n",
        "# Langkah 2: Menghitung modal, kuantitas, dan harga jual\n",
        "modal_per_kodi = 1000000  # Modal per kodi\n",
        "modal = kodi * modal_per_kodi\n",
        "harga_jual_per_sepatu = 80000  # Harga jual per sepatu\n",
        "harga_jual_total = harga_jual_per_sepatu * jumlah_sepatu\n",
        "\n",
        "# Menghitung profit\n",
        "profit = harga_jual_total - modal\n",
        "\n",
        "# Menampilkan hasil\n",
        "print(\"Jumlah sepatu:\", jumlah_sepatu)\n",
        "print(\"Modal:\", modal)\n",
        "print(\"Harga jual total:\", harga_jual_total)\n",
        "print(\"Profit:\", profit)"
      ]
    },
    {
      "cell_type": "markdown",
      "metadata": {
        "hidden": true,
        "id": "8GaDbS89E0js"
      },
      "source": [
        "Jadi, dari profit di atas, terlihat bahwa jika semua sepatu terjual dengan harga jual yang telah ditentukan, toko akan mengalami kerugian sebesar Rp 40.000. Dalam kasus ini, biaya modal dan harga jual tidak menghasilkan keuntungan yang cukup untuk menutupi modal awal yang dikeluarkan."
      ]
    },
    {
      "cell_type": "markdown",
      "metadata": {
        "id": "5oTZCAI4E0ju"
      },
      "source": [
        "## 2. Package Python dan Dictionary\n",
        "\n",
        "> Kita akan coba mengakses data scientific article dari PLOS corpus\n",
        "    Menggunakan API request dengan kode berikut :\n",
        "```\n",
        "import requests\n",
        "response = requests.get('http://api.plos.org/search?q=title:\"Drosophila\" AND body:\"RNA\"&fl=id,abstract')\n",
        "```\n",
        "**perhatikan tanda kutipnya tidak salah ketika meng-copy ke dalam python\n",
        "\n",
        "Pertanyaannya :\n",
        "Convert response.content dari request tersebut dari JSON Format ke dalam Dictionary, dan print-kan key di dalamnya apa saja\n",
        "\n",
        "Saran langkah-langkah pengerjaan\n",
        "1. Ikuti code dari soal, kemudian ekstrak value dari variable response menggunakan dot (.) content menjadi sebuah variabel baru (dictionary)\n",
        "2. Gunakan library json, convert hasil content menggunakan json.loads\n",
        "3. Print keys dari dictionary tersebut\n"
      ]
    },
    {
      "cell_type": "code",
      "execution_count": 4,
      "metadata": {
        "ExecuteTime": {
          "end_time": "2021-10-23T10:20:40.890513Z",
          "start_time": "2021-10-23T10:20:40.882963Z"
        },
        "id": "RY1kdZAUE0ju"
      },
      "outputs": [
        {
          "name": "stdout",
          "output_type": "stream",
          "text": [
            "Keys dalam dictionary:\n",
            "response\n"
          ]
        }
      ],
      "source": [
        "import requests\n",
        "import json\n",
        "\n",
        "# Langkah 1 : Ikuti code\n",
        "response = requests.get(\n",
        "    'http://api.plos.org/search?q=title:\"Drosophila\" AND body:\"RNA\"&fl=id,abstract')\n",
        "\n",
        "# Langkah 2: Convert hasil response.content menggunakan json.loads\n",
        "response_dict = json.loads(response.content)\n",
        "\n",
        "# Langkah 3: Print keys dari dictionary tersebut\n",
        "print(\"Keys dalam dictionary:\")\n",
        "for key in response_dict.keys():\n",
        "    print(key)"
      ]
    },
    {
      "cell_type": "markdown",
      "metadata": {
        "id": "rvQnd_NgE0jv"
      },
      "source": [
        "Jadi, dari url link di atas, kami menyimpulkan bahwa memiliki keys \"response\""
      ]
    },
    {
      "cell_type": "markdown",
      "metadata": {
        "id": "wWstgpwIPDwR"
      },
      "source": [
        "# Intermediate"
      ]
    },
    {
      "cell_type": "markdown",
      "metadata": {
        "id": "AI0lJNgDE0jv"
      },
      "source": [
        "## 3. Operasi dalam List\n",
        "\n",
        "> Buatlah list dengan 10 nama kota di indonesia, kemudian:\n",
        "1. Urutkan nama kota di dalam list berdasarkan abjad (a)\n",
        "2. Ambil 4 kota pertama dari list tersebut (yang telah diurutkan) (b)\n",
        "3. Ambil 3 kota terakhir dari list tersebut (yang telah diurutkan) (c)\n",
        "\n",
        "Saran langkah-langkah pengerjaan\n",
        "1. Tidak ada ketentuan nama kota (misal berdasarkan provinsi X atau pulau Y), dibebaskan untuk memilih. Buat nama-nama kota tersebut dalam sebuah list.\n",
        "2. Gunakan fungsi sorted(X) untuk mengurutkan secara kecil-ke-besar (sesuai abjad), dimana X adalah contoh variabel list pada langkah (a)\n",
        "3. Gunakan hasil poin (a), urutkan nama kota di dalam list berdasarkan abjad, untuk mengerjakan poin (b) dan (c)."
      ]
    },
    {
      "cell_type": "code",
      "execution_count": 6,
      "metadata": {
        "ExecuteTime": {
          "end_time": "2021-10-23T10:20:47.306584Z",
          "start_time": "2021-10-23T10:20:47.299827Z"
        },
        "id": "piGxWfIAE0jw",
        "scrolled": true
      },
      "outputs": [
        {
          "name": "stdout",
          "output_type": "stream",
          "text": [
            "1. Nama kota diurutkan berdasarkan abjad: ['Balikpapan', 'Bandung', 'Denpasar', 'Jakarta', 'Makassar', 'Medan', 'Palembang', 'Semarang', 'Surabaya', 'Yogyakarta']\n",
            "2. 4 kota pertama: ['Balikpapan', 'Bandung', 'Denpasar', 'Jakarta']\n",
            "3. 3 kota terakhir: ['Semarang', 'Surabaya', 'Yogyakarta']\n"
          ]
        }
      ],
      "source": [
        "# Langkah 1: Membuat list nama kota\n",
        "nama_kota = [\"Jakarta\", \"Surabaya\", \"Bandung\", \"Medan\", \"Semarang\",\n",
        "             \"Makassar\", \"Yogyakarta\", \"Palembang\", \"Balikpapan\", \"Denpasar\"]\n",
        "\n",
        "# Langkah 2: Mengurutkan nama kota berdasarkan abjad\n",
        "nama_kota_urut = sorted(nama_kota)\n",
        "\n",
        "# Langkah 3: Mengambil 4 kota pertama dan 3 kota terakhir\n",
        "kota_pertama = nama_kota_urut[:4]\n",
        "kota_terakhir = nama_kota_urut[-3:]\n",
        "\n",
        "# Menampilkan hasil\n",
        "print(\"1. Nama kota diurutkan berdasarkan abjad:\", nama_kota_urut)\n",
        "print(\"2. 4 kota pertama:\", kota_pertama)\n",
        "print(\"3. 3 kota terakhir:\", kota_terakhir)"
      ]
    },
    {
      "cell_type": "markdown",
      "metadata": {
        "id": "6nanVjCCE0jx"
      },
      "source": [
        "## 4. Function dalam List\n",
        "\n",
        "> Team sales memiliki list total transaksi dari 10 merchant pada bulan Juni 2020, yaitu:\n",
        "```\n",
        "total_transaksi = [ 19, 35, 23, 25, 10, 15, 33, 45, 21, 30 ]\n",
        "```\n",
        "1. Trx minimum\n",
        "2. Rata-rata\n",
        "3. Trx maksimal\n",
        "\n",
        "Saran langkah-langkah pengerjaan\n",
        "1. Copy variabel total_transaksi yang ada di soal ke notebook kita (atau ketik ulang boleh)\n",
        "2. Kemudian, hitung menggunakan function operasi dalam list yang telah dipelajari di kelas pada topik list. Print hasilnya setiap poin (a), (b), dan (c)"
      ]
    },
    {
      "cell_type": "code",
      "execution_count": 5,
      "metadata": {
        "ExecuteTime": {
          "end_time": "2021-10-23T10:20:52.903045Z",
          "start_time": "2021-10-23T10:20:52.894900Z"
        },
        "id": "HxvjrB2RE0jx",
        "scrolled": true
      },
      "outputs": [
        {
          "name": "stdout",
          "output_type": "stream",
          "text": [
            "1. Transaksi minimum: 10\n",
            "2. Rata-rata transaksi: 25.6\n",
            "3. Transaksi maksimal: 45\n"
          ]
        }
      ],
      "source": [
        "# Langkah 1 : Copy variabel\n",
        "total_transaksi = [19, 35, 23, 25, 10, 15, 33, 45, 21, 30]\n",
        "\n",
        "# Langkah 2: Menghitung nilai minimum, rata-rata, dan maksimal\n",
        "trx_minimum = min(total_transaksi)\n",
        "trx_rata_rata = sum(total_transaksi) / len(total_transaksi)\n",
        "trx_maksimal = max(total_transaksi)\n",
        "\n",
        "# Langkah 3: Menampilkan hasil\n",
        "print(\"1. Transaksi minimum:\", trx_minimum)\n",
        "print(\"2. Rata-rata transaksi:\", trx_rata_rata)\n",
        "print(\"3. Transaksi maksimal:\", trx_maksimal)\n"
      ]
    },
    {
      "cell_type": "markdown",
      "metadata": {
        "id": "UgHXbAOqE0jx"
      },
      "source": [
        "Jadi, dari hasil operasi list di atas, dapat disimpulkan bahwa nilai minimal yaitu sebesar 10, max sebesar 45 dan rata-rata 25.6"
      ]
    },
    {
      "cell_type": "markdown",
      "metadata": {
        "id": "f4EkwISgE0jx"
      },
      "source": [
        "# Advanced"
      ]
    },
    {
      "cell_type": "markdown",
      "metadata": {
        "id": "fmaX-pu5E0jy"
      },
      "source": [
        "## 5. NumPy Array\n",
        "\n",
        "> Buatlah array dari 5 bilangan ganjil pertama (dimulai dari 1), Kemudian lakukan perintah berikut :\n",
        "1. Kali-kan array tersebut dengan 10\n",
        "2. Bagi-kan array (hasil dari bagian a) dengan 3\n",
        "3. Kali-kan array (hasil dari bagian b) dengan array baru :\n",
        "`[-45, 43, 3, 56, 5]`\n",
        "4. Carilah pada index ke-berapa nilai tertinggi dan terendah dari array (hasil dari bagian c)\n",
        "\n",
        "Saran langkah-langkah pengerjaan\n",
        "1. HATI-HATI dalam pengerjaan, karena apabila poin sebelumnya salah, maka selanjutnya akan kebawa salah (misal (b) salah, maka poin (c) sampai (d) akan salah)\n",
        "2. Untuk array 5 bilangan ganjil pertama boleh manual boleh menggunakan fungsi, dimulai dari 1\n",
        "3. Ikuti perintah soal, gunakan numpy array, jangan list. Sesuaikan dengan permintaan soal pada setiap butir.\n",
        "\n"
      ]
    },
    {
      "cell_type": "code",
      "execution_count": null,
      "metadata": {
        "ExecuteTime": {
          "end_time": "2021-10-23T10:20:59.988806Z",
          "start_time": "2021-10-23T10:20:59.980744Z"
        },
        "id": "VTTOjU8wE0jy",
        "scrolled": true
      },
      "outputs": [],
      "source": [
        "# your code goes here!\n"
      ]
    },
    {
      "cell_type": "markdown",
      "metadata": {
        "id": "wTkMvK_EE0jy"
      },
      "source": [
        "Jadi, dari hasil operasi numpy di atas, dapat disimpulkan bahwa..."
      ]
    },
    {
      "cell_type": "markdown",
      "metadata": {
        "id": "LLIlxgN3Pmwj"
      },
      "source": [
        "# Terimakasih, salam dari ... (asal daerah Anda)"
      ]
    }
  ],
  "metadata": {
    "colab": {
      "provenance": []
    },
    "kernelspec": {
      "display_name": "Python 3",
      "language": "python",
      "name": "python3"
    },
    "language_info": {
      "codemirror_mode": {
        "name": "ipython",
        "version": 3
      },
      "file_extension": ".py",
      "mimetype": "text/x-python",
      "name": "python",
      "nbconvert_exporter": "python",
      "pygments_lexer": "ipython3",
      "version": "3.10.9"
    },
    "toc": {
      "base_numbering": 1,
      "nav_menu": {},
      "number_sections": true,
      "sideBar": true,
      "skip_h1_title": false,
      "title_cell": "Table of Contents",
      "title_sidebar": "Contents",
      "toc_cell": false,
      "toc_position": {},
      "toc_section_display": true,
      "toc_window_display": true
    }
  },
  "nbformat": 4,
  "nbformat_minor": 0
}
